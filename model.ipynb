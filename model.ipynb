{
 "cells": [
  {
   "cell_type": "code",
   "execution_count": 16,
   "metadata": {},
   "outputs": [],
   "source": [
    "import tensorflow as tf\n",
    "from tensorflow.keras.models import Sequential\n",
    "from tensorflow.keras.models import Model\n",
    "from tensorflow.keras.layers import Dense\n",
    "from Loader import DataLoader\n",
    "import matplotlib.pyplot as plt\n",
    "import datetime"
   ]
  },
  {
   "cell_type": "code",
   "execution_count": 17,
   "metadata": {},
   "outputs": [],
   "source": [
    "trainingData = None\n",
    "trainingData = DataLoader(128, 'training_generator')"
   ]
  },
  {
   "cell_type": "code",
   "execution_count": 18,
   "metadata": {},
   "outputs": [],
   "source": [
    "lossHistory = []\n",
    "valHistory = []\n",
    "\n",
    "class NnueCallbacks(tf.keras.callbacks.Callback):\n",
    "  def on_batch_end(self, batch, logs=None):\n",
    "    lossHistory[-1].append(logs['loss'])\n",
    "    if batch and batch % 500 == 0:\n",
    "\n",
    "      for i in lossHistory:\n",
    "        plt.plot(i[20:], linewidth=0.5)\n",
    "        plt.savefig(\"loss.png\", dpi=400)\n",
    "      plt.clf()\n",
    "\n",
    "log_dir = \"logs/fit/\" + datetime.datetime.now().strftime(\"%Y%m%d-%H%M%S\")\n",
    "tensorboard_callback = tf.keras.callbacks.TensorBoard(log_dir=log_dir, histogram_freq=1)"
   ]
  },
  {
   "cell_type": "code",
   "execution_count": 20,
   "metadata": {},
   "outputs": [],
   "source": [
    "from keras import backend as K\n",
    "def clipped_relu(x):\n",
    "    return K.relu(x, max_value=4)\n",
    "\n",
    "model = Sequential()\n",
    "model.add(Dense(128, input_shape=(781,), activation=clipped_relu))\n",
    "model.add(Dense(32, activation=clipped_relu))\n",
    "model.add(Dense(32, activation=clipped_relu))\n",
    "model.add(Dense(1, activation='sigmoid'))\n",
    "\n",
    "model.compile(loss='mse', optimizer='adam', metrics=['mae'])"
   ]
  },
  {
   "cell_type": "code",
   "execution_count": 21,
   "metadata": {},
   "outputs": [
    {
     "name": "stdout",
     "output_type": "stream",
     "text": [
      "Epoch 1/4\n",
      "10906/10906 [==============================] - 230s 21ms/step - loss: 0.0399 - mae: 0.1225\n",
      "Epoch 2/4\n",
      "10906/10906 [==============================] - 237s 22ms/step - loss: 0.0281 - mae: 0.0952\n",
      "Epoch 3/4\n",
      "10906/10906 [==============================] - 234s 21ms/step - loss: 0.0238 - mae: 0.0854\n",
      "Epoch 4/4\n",
      "10906/10906 [==============================] - 233s 21ms/step - loss: 0.0213 - mae: 0.0795\n"
     ]
    },
    {
     "data": {
      "text/plain": [
       "<keras.callbacks.History at 0x7fab2084fdc0>"
      ]
     },
     "execution_count": 21,
     "metadata": {},
     "output_type": "execute_result"
    },
    {
     "data": {
      "text/plain": [
       "<Figure size 432x288 with 0 Axes>"
      ]
     },
     "metadata": {},
     "output_type": "display_data"
    }
   ],
   "source": [
    "lossHistory.append([])\n",
    "model.fit(trainingData, epochs=4, callbacks=[NnueCallbacks(), tensorboard_callback])\n",
    "\n",
    "#Epoch 2/2\n",
    "#10906/10906 [==============================] - 225s 21ms/step - loss: 0.0243 - mae: 0.0866"
   ]
  },
  {
   "cell_type": "code",
   "execution_count": 11,
   "metadata": {},
   "outputs": [
    {
     "data": {
      "text/plain": [
       "array([[0.06667908]], dtype=float32)"
      ]
     },
     "execution_count": 11,
     "metadata": {},
     "output_type": "execute_result"
    }
   ],
   "source": [
    "import Features\n",
    "import numpy as np\n",
    "\n",
    "FEN = \"r3n1k1/2qbbppp/4p3/3p2P1/2p2P2/2N1P3/Pr1B2BP/R2Q1RK1 b - - 2 19\"\n",
    "features = Features.get(FEN)\n",
    "model.predict(np.array([features]))"
   ]
  },
  {
   "cell_type": "code",
   "execution_count": 22,
   "metadata": {},
   "outputs": [
    {
     "name": "stdout",
     "output_type": "stream",
     "text": [
      "INFO:tensorflow:Assets written to: production/assets\n"
     ]
    }
   ],
   "source": [
    "model.save(\"production\")"
   ]
  }
 ],
 "metadata": {
  "kernelspec": {
   "display_name": "Python 3.8.10 64-bit",
   "language": "python",
   "name": "python3"
  },
  "language_info": {
   "codemirror_mode": {
    "name": "ipython",
    "version": 3
   },
   "file_extension": ".py",
   "mimetype": "text/x-python",
   "name": "python",
   "nbconvert_exporter": "python",
   "pygments_lexer": "ipython3",
   "version": "3.8.10"
  },
  "orig_nbformat": 4,
  "vscode": {
   "interpreter": {
    "hash": "916dbcbb3f70747c44a77c7bcd40155683ae19c65e1c03b4aa3499c5328201f1"
   }
  }
 },
 "nbformat": 4,
 "nbformat_minor": 2
}
